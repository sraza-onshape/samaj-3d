{
 "cells": [
  {
   "cell_type": "markdown",
   "metadata": {},
   "source": [
    "# Homework 3: Voxel-Based 3D Reconstruction\n",
    "#### Name: Syed Zain Raza\n",
    "#### CWID: 20011917"
   ]
  },
  {
   "cell_type": "code",
   "execution_count": 1,
   "metadata": {},
   "outputs": [],
   "source": [
    "# optional: allow Jupyter to \"hot reload\" the modules we import - after each change, rerun this cell (instead of restarting the kernel!!)\n",
    "%load_ext autoreload\n",
    "%autoreload 2"
   ]
  },
  {
   "cell_type": "markdown",
   "metadata": {},
   "source": [
    "## Step 1: Define a Voxel Grid\n",
    "\n",
    "Note to Self: the hw description mentions the dimensions of the voxel grid are measured in **meters**."
   ]
  },
  {
   "cell_type": "code",
   "execution_count": 2,
   "metadata": {},
   "outputs": [],
   "source": [
    "import numpy as np"
   ]
  },
  {
   "cell_type": "code",
   "execution_count": 6,
   "metadata": {},
   "outputs": [],
   "source": [
    "X_RESOLUTION, Y_RESOLUTION, Z_RESOLUTION = (50, 50, 50)  # hope this doesn't raise a OOM error later\n",
    "X_MIN, Y_MIN, Z_MIN = (-2.5, -3, 0)\n",
    "X_DISTANCE, Y_DISTANCE, Z_DISTANCE = (5, 6, 2.5)"
   ]
  },
  {
   "cell_type": "code",
   "execution_count": 7,
   "metadata": {},
   "outputs": [],
   "source": [
    "x_axis = np.linspace(X_MIN, X_MIN + X_DISTANCE, X_RESOLUTION)\n",
    "y_axis = np.linspace(Y_MIN, Y_MIN + Y_DISTANCE, Y_RESOLUTION)\n",
    "z_axis = np.linspace(Z_MIN, Z_MIN + Z_DISTANCE, Z_RESOLUTION)"
   ]
  },
  {
   "cell_type": "markdown",
   "metadata": {},
   "source": [
    "The next line is probably unnecessary - it's just that I find the `meshgrid()` function super dope:"
   ]
  },
  {
   "cell_type": "code",
   "execution_count": 48,
   "metadata": {},
   "outputs": [],
   "source": [
    "x_coords, y_coords, z_coords = np.meshgrid(x_axis, y_axis, z_axis, indexing=\"ij\")"
   ]
  },
  {
   "cell_type": "markdown",
   "metadata": {},
   "source": [
    "## Step 2: Determine the Voxels Forming the Visual Hull"
   ]
  },
  {
   "cell_type": "markdown",
   "metadata": {},
   "source": [
    "### Load the Silhouette Images and Camera Projection Matrices"
   ]
  },
  {
   "cell_type": "markdown",
   "metadata": {},
   "source": [
    "Before anything else, let's play around to check if we can even load the projection matrix:"
   ]
  },
  {
   "cell_type": "code",
   "execution_count": 40,
   "metadata": {},
   "outputs": [
    {
     "data": {
      "text/plain": [
       "array([[ 7.76649963e+02, -2.98408539e+02, -3.20483860e+01,\n",
       "         9.93158188e+02],\n",
       "       [ 1.32852554e+02,  1.20885834e+02, -7.59210876e+02,\n",
       "         1.98217400e+03],\n",
       "       [ 7.44869000e-01,  6.62592000e-01, -7.83770000e-02,\n",
       "         4.62931201e+00]])"
      ]
     },
     "execution_count": 40,
     "metadata": {},
     "output_type": "execute_result"
    }
   ],
   "source": [
    "import xml.etree.ElementTree as ET\n",
    "\n",
    "tree = ET.parse(\"../dancer/calibration/cam00.xml\")\n",
    "root = tree.getroot()\n",
    "vals = [float(val) for val in root.text.split()]\n",
    "cam_transform = np.array(vals).reshape(3, 4)\n",
    "cam_transform"
   ]
  },
  {
   "cell_type": "markdown",
   "metadata": {},
   "source": [
    "Mission accomplished! Let's switch focus to seeing the silhouette images can be loaded:"
   ]
  },
  {
   "cell_type": "code",
   "execution_count": 33,
   "metadata": {},
   "outputs": [],
   "source": [
    "import matplotlib.pyplot as plt\n",
    "%matplotlib inline\n",
    "\n",
    "from util import ops"
   ]
  },
  {
   "cell_type": "code",
   "execution_count": 34,
   "metadata": {},
   "outputs": [
    {
     "name": "stdout",
     "output_type": "stream",
     "text": [
      "Dimensions of ../dancer/silh_cam00_00023_0000008550.pbm: 582 x 780\n",
      "[  0 255]\n"
     ]
    },
    {
     "data": {
      "image/png": "[encoded data removed]",
      "text/plain": [
       "<Figure size 640x480 with 1 Axes>"
      ]
     },
     "metadata": {},
     "output_type": "display_data"
    }
   ],
   "source": [
    "test_silhouette = ops.load_image(\n",
    "    \"../dancer/silh_cam00_00023_0000008550.pbm\",\n",
    "    return_grayscale=True,\n",
    "    return_array=True\n",
    ")\n",
    "print(np.unique(test_silhouette))\n",
    "plt.imshow(test_silhouette, cmap=\"gray\")\n",
    "plt.show()"
   ]
  },
  {
   "cell_type": "code",
   "execution_count": 44,
   "metadata": {},
   "outputs": [],
   "source": [
    "import glob\n",
    "\n",
    "cam_transform_paths = glob.glob(\"../dancer/calibration/*\")\n",
    "silhouette_paths = glob.glob(\"../dancer/silh*\")"
   ]
  },
  {
   "cell_type": "markdown",
   "metadata": {},
   "source": [
    "Let's confirm if `glob.glob()` indeed return paths that are relative, so we know they don't need too much further preprocessing:"
   ]
  },
  {
   "cell_type": "code",
   "execution_count": 47,
   "metadata": {},
   "outputs": [
    {
     "data": {
      "text/plain": [
       "['../dancer/calibration/cam01.xml',\n",
       " '../dancer/calibration/cam00.xml',\n",
       " '../dancer/calibration/cam02.xml',\n",
       " '../dancer/calibration/cam03.xml',\n",
       " '../dancer/calibration/cam07.xml',\n",
       " '../dancer/calibration/cam06.xml',\n",
       " '../dancer/calibration/cam04.xml',\n",
       " '../dancer/calibration/cam05.xml']"
      ]
     },
     "execution_count": 47,
     "metadata": {},
     "output_type": "execute_result"
    }
   ],
   "source": [
    "cam_transform_paths"
   ]
  },
  {
   "cell_type": "code",
   "execution_count": null,
   "metadata": {},
   "outputs": [],
   "source": [
    "import xml.etree.ElementTree as ET\n",
    "\n",
    "import numpy as np\n",
    "\n",
    "\n",
    "def determine_visual_hull(scene_shape: tuple[int, int, int]) -> np.ndarray:\n",
    "    \"\"\"\n",
    "    Evaluates which voxels are empty and which are occupied.\n",
    "\n",
    "    TODO: add details, params, return value\n",
    "    \"\"\"\n",
    "    WHITE_PIXEL_VALUE = 255\n",
    "    OCCUPIED_VOXEL_VALUE = 1\n",
    "\n",
    "    ### HELPER(S)\n",
    "    def _get_camera_transform_from_xml(path_to_transform: str) -> np.ndarray:\n",
    "        tree = ET.parse(path_to_transform)  # TODO: debug\n",
    "        root = tree.getroot()\n",
    "        vals = [float(val) for val in root.text.split()]\n",
    "        return np.array(vals).reshape(3, 4)\n",
    "\n",
    "    ### DRIVER\n",
    "    # A: define a 3D array - for now, only possible colors are 0 (empty) or 1 (occupied)\n",
    "    x_resolution, y_resolution, z_resolution = scene_shape\n",
    "    voxels = np.zeros((x_resolution, y_resolution, z_resolution))\n",
    "    # B: create a dict of all the camera projection matricies --> silhouette images\n",
    "    num_frames = len(cam_transform_paths)\n",
    "    frames_to_projection_and_silhouette = dict()\n",
    "    for frame_index in range(num_frames):\n",
    "        cam_transform_path = cam_transform_paths[frame_index]\n",
    "        silhouette_path = silhouette_paths[frame_index]\n",
    "        cam_transform = _get_camera_transform_from_xml(cam_transform_path)\n",
    "        silhouette_image = ops.load_image(\n",
    "            silhouette_path,\n",
    "            return_grayscale=True,\n",
    "            return_array=True,\n",
    "        )\n",
    "        frames_to_projection_and_silhouette[frame_index] = (\n",
    "            cam_transform, silhouette_image\n",
    "        )\n",
    "    # C: for each 3D index in the 3D array\n",
    "    for x_index in np.arange(x_resolution):\n",
    "        for y_index in np.arange(y_resolution):\n",
    "            for z_index in np.arange(z_resolution):\n",
    "                # get the corresponding 3D location in world space\n",
    "                X = x_coords[x_index, y_index, z_index]\n",
    "                Y = y_coords[x_index, y_index, z_index]\n",
    "                Z = z_coords[x_index, y_index, z_index]\n",
    "                world_coords_homogenous = np.array([X, Y, Z, 1]).reshape(4, 1)\n",
    "                # init how many frames this location is in the visual hull\n",
    "                num_images_in_silhouette = 0\n",
    "                for frame_index in range(len(frames_to_projection_and_silhouette)):\n",
    "                    cam_transform, silhouette_image = frames_to_projection_and_silhouette[frame_index]\n",
    "                    # get the 2D image location in homo coords\n",
    "                    image_location_homogenous = np.dot(cam_transform, world_coords_homogenous).reshape(1, 3)\n",
    "                    # convert to \"pixel coords\"\n",
    "                    pixel_x = image_location_homogenous[0, 0] / image_location_homogenous[0, 2]\n",
    "                    pixel_y = image_location_homogenous[0, 1] / image_location_homogenous[0, 2]\n",
    "                    # check the value of the location in the silhoute - increment value of num_images_in_silhouette\n",
    "                    if silhouette_image[pixel_x, pixel_y] == WHITE_PIXEL_VALUE:\n",
    "                        num_images_in_silhouette += 1\n",
    "                # if the projection was in the silhouette  for all --> set the 3D index to be (occupied)\n",
    "                if num_frames == num_images_in_silhouette:\n",
    "                    voxels[x_index, y_index, z_index] = OCCUPIED_VOXEL_VALUE "
   ]
  },
  {
   "cell_type": "code",
   "execution_count": null,
   "metadata": {},
   "outputs": [],
   "source": []
  }
 ],
 "metadata": {
  "kernelspec": {
   "display_name": "env",
   "language": "python",
   "name": "env"
  },
  "language_info": {
   "codemirror_mode": {
    "name": "ipython",
    "version": 3
   },
   "file_extension": ".py",
   "mimetype": "text/x-python",
   "name": "python",
   "nbconvert_exporter": "python",
   "pygments_lexer": "ipython3",
   "version": "3.11.1"
  }
 },
 "nbformat": 4,
 "nbformat_minor": 2
}
