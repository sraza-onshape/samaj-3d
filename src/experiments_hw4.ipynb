{
 "cells": [
  {
   "cell_type": "markdown",
   "metadata": {},
   "source": [
    "# Homework 4: Fun with Point Clouds?"
   ]
  },
  {
   "cell_type": "markdown",
   "metadata": {},
   "source": [
    "## Problem 1: Point Cloud Fusion"
   ]
  },
  {
   "cell_type": "markdown",
   "metadata": {},
   "source": [
    "### Part 1: Harris Corner Detection"
   ]
  },
  {
   "cell_type": "markdown",
   "metadata": {},
   "source": [
    "#### Code Imports"
   ]
  },
  {
   "cell_type": "code",
   "execution_count": 1,
   "metadata": {},
   "outputs": [],
   "source": [
    "# optional: allow Jupyter to \"hot reload\" the modules we import - after each change, rerun this cell (instead of restarting the kernel!!)\n",
    "%load_ext autoreload\n",
    "%autoreload 2"
   ]
  },
  {
   "cell_type": "code",
   "execution_count": 2,
   "metadata": {},
   "outputs": [],
   "source": [
    "import glob\n",
    "\n",
    "import numpy as np\n",
    "\n",
    "from util import ops\n",
    "from util.corner_detection import HarrisCornerDetector"
   ]
  },
  {
   "cell_type": "markdown",
   "metadata": {},
   "source": [
    "### Load Data"
   ]
  },
  {
   "cell_type": "code",
   "execution_count": 3,
   "metadata": {},
   "outputs": [
    {
     "data": {
      "text/plain": [
       "['../hw4_data/problem1/rgb1.png',\n",
       " '../hw4_data/problem1/rgb2.png',\n",
       " '../hw4_data/problem1/rgb3.png']"
      ]
     },
     "execution_count": 3,
     "metadata": {},
     "output_type": "execute_result"
    }
   ],
   "source": [
    "rgb_paths = sorted(glob.glob(\"../hw4_data/problem1/rgb*\"))\n",
    "rgb_paths"
   ]
  },
  {
   "cell_type": "code",
   "execution_count": 4,
   "metadata": {},
   "outputs": [
    {
     "name": "stdout",
     "output_type": "stream",
     "text": [
      "Dimensions of ../hw4_data/problem1/rgb1.png: 480 x 640\n",
      "Dimensions of ../hw4_data/problem1/rgb2.png: 480 x 640\n",
      "Dimensions of ../hw4_data/problem1/rgb3.png: 480 x 640\n"
     ]
    }
   ],
   "source": [
    "illumination_images = [\n",
    "    ops.load_image(\n",
    "        path,\n",
    "        return_grayscale=True,\n",
    "        return_array=True\n",
    "    )\n",
    "    for path in rgb_paths\n",
    "]"
   ]
  },
  {
   "cell_type": "markdown",
   "metadata": {},
   "source": [
    "For convenience, let's map the filename of each RGB image, to the image itself."
   ]
  },
  {
   "cell_type": "markdown",
   "metadata": {},
   "source": [
    "And let's also load in the depth map images in a similar fashion:"
   ]
  },
  {
   "cell_type": "code",
   "execution_count": 5,
   "metadata": {},
   "outputs": [
    {
     "data": {
      "text/plain": [
       "['../hw4_data/problem1/depth1.png',\n",
       " '../hw4_data/problem1/depth2.png',\n",
       " '../hw4_data/problem1/depth3.png']"
      ]
     },
     "execution_count": 5,
     "metadata": {},
     "output_type": "execute_result"
    }
   ],
   "source": [
    "depthmap_paths = sorted(glob.glob(\"../hw4_data/problem1/depth*\"))\n",
    "depthmap_paths"
   ]
  },
  {
   "cell_type": "code",
   "execution_count": 6,
   "metadata": {},
   "outputs": [
    {
     "name": "stdout",
     "output_type": "stream",
     "text": [
      "Dimensions of ../hw4_data/problem1/depth1.png: 480 x 640\n",
      "Dimensions of ../hw4_data/problem1/depth2.png: 480 x 640\n",
      "Dimensions of ../hw4_data/problem1/depth3.png: 480 x 640\n"
     ]
    }
   ],
   "source": [
    "depthmap_paths = [\n",
    "    ops.load_image(\n",
    "        path,\n",
    "        return_grayscale=True,\n",
    "        return_array=True\n",
    "    )\n",
    "    for path in depthmap_paths\n",
    "]"
   ]
  },
  {
   "cell_type": "markdown",
   "metadata": {},
   "source": [
    "#### Determine Feature that Will Be Used to Fuse Point Clouds "
   ]
  },
  {
   "cell_type": "code",
   "execution_count": 7,
   "metadata": {},
   "outputs": [],
   "source": [
    "derivative_operator_x = np.array([\n",
    "    [-1, 0, 1],\n",
    "    [-1, 0, 1],\n",
    "    [-1, 0, 1],\n",
    "])\n",
    "derivative_operator_y = derivative_operator_x.T"
   ]
  },
  {
   "cell_type": "code",
   "execution_count": 8,
   "metadata": {},
   "outputs": [],
   "source": [
    "# using the Gaussian filter provided here: https://homepages.inf.ed.ac.uk/rbf/HIPR2/gsmooth.htm\n",
    "gaussian_window = np.array([\n",
    "    [1, 4, 7, 4, 1],\n",
    "    [4, 16, 26, 16, 4],\n",
    "    [7, 26, 41, 26, 7],\n",
    "    [4, 16, 26, 16, 4],\n",
    "    [1, 4, 7, 4, 1],\n",
    "])\n",
    "\n",
    "gaussian_window = gaussian_window * (1 / 273)"
   ]
  },
  {
   "cell_type": "code",
   "execution_count": 9,
   "metadata": {},
   "outputs": [],
   "source": [
    "path_to_image_and_corners = dict()\n",
    "\n",
    "detector = HarrisCornerDetector()\n",
    "top_many_features = 100\n",
    "\n",
    "for rgb_path, image in zip(rgb_paths, illumination_images):\n",
    "\n",
    "    corner_response = detector.detect_features(\n",
    "        image,\n",
    "        use_non_max_suppression=True,\n",
    "        derivative_operator_x=derivative_operator_x,\n",
    "        derivative_operator_y=derivative_operator_y,\n",
    "        gaussian_window=gaussian_window,\n",
    "    )\n",
    "    # pick top features\n",
    "    top_k_points = detector.pick_top_features(\n",
    "        corner_response,\n",
    "        top_many_features\n",
    "    )\n",
    "\n",
    "    path_to_image_and_corners[rgb_path] = (image, top_k_points)"
   ]
  },
  {
   "cell_type": "code",
   "execution_count": null,
   "metadata": {},
   "outputs": [],
   "source": []
  }
 ],
 "metadata": {
  "kernelspec": {
   "display_name": "env",
   "language": "python",
   "name": "python3"
  },
  "language_info": {
   "codemirror_mode": {
    "name": "ipython",
    "version": 3
   },
   "file_extension": ".py",
   "mimetype": "text/x-python",
   "name": "python",
   "nbconvert_exporter": "python",
   "pygments_lexer": "ipython3",
   "version": "3.12.2"
  }
 },
 "nbformat": 4,
 "nbformat_minor": 2
}
